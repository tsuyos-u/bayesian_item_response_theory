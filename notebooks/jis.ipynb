{
 "cells": [
  {
   "cell_type": "code",
   "execution_count": 1,
   "id": "f72fce59-e9f8-4321-a756-1eaf67d61b43",
   "metadata": {},
   "outputs": [
    {
     "name": "stderr",
     "output_type": "stream",
     "text": [
      "/Users/tsuyos-u/Library/Caches/pypoetry/virtualenvs/bayesian-item-response-theory-uJKz2CJg-py3.11/lib/python3.11/site-packages/tqdm/auto.py:21: TqdmWarning: IProgress not found. Please update jupyter and ipywidgets. See https://ipywidgets.readthedocs.io/en/stable/user_install.html\n",
      "  from .autonotebook import tqdm as notebook_tqdm\n"
     ]
    }
   ],
   "source": [
    "import numpyro\n",
    "import numpyro.distributions as dist\n",
    "import pandas as pd\n",
    "\n",
    "import jax\n",
    "import jax.numpy as jnp\n",
    "from jax import random\n",
    "import numpy as np\n",
    "import numpyro\n",
    "import numpyro.distributions as dist\n",
    "from numpyro.infer import NUTS, MCMC\n",
    "from numpyro.infer.reparam import TransformReparam, LocScaleReparam\n",
    "import numpyro.distributions.transforms as T"
   ]
  },
  {
   "cell_type": "code",
   "execution_count": 2,
   "id": "bc342243-f8a8-4e68-ab8a-c9cf669e6305",
   "metadata": {},
   "outputs": [],
   "source": [
    "def irt_2pl(resp, N, K, beta=1, **hyper_params):\n",
    "    hyper_a_sd = hyper_params.get('a', 0.35)\n",
    "    hyper_b_sd = hyper_params.get('b', 1.0)\n",
    "        \n",
    "    theta1 = numpyro.sample(\"theta1\", dist.Normal(0, 1).expand([N]).to_event(1))\n",
    "    theta = numpyro.deterministic(\"theta\", theta1 - jnp.mean(theta1, axis=0, keepdims=True))\n",
    "\n",
    "    log_a_sigma = numpyro.sample(\"log_a_sigma\", dist.HalfNormal(hyper_a_sd))\n",
    "    a = numpyro.sample(\"a\",\n",
    "                       dist.TruncatedNormal(1., log_a_sigma, low=0).expand([K]).to_event(1)\n",
    "    )\n",
    "\n",
    "    b_sd = numpyro.sample(\"b_sd\", dist.HalfNormal(hyper_b_sd))\n",
    "    with numpyro.handlers.reparam(config={\"b\": LocScaleReparam()}):\n",
    "        b = numpyro.sample(\"b\", dist.Normal(0., b_sd).expand([K]).to_event(1))\n",
    "  \n",
    "    logit = (a * (theta[:, None] - b))\n",
    "    p = jax.nn.sigmoid(logit)\n",
    "\n",
    "    with numpyro.handlers.scale(scale=beta):\n",
    "        with numpyro.plate(\"person\", N):\n",
    "            numpyro.sample(\n",
    "                \"obs\",\n",
    "                dist.Bernoulli(probs=p).to_event(1),  # K をイベント\n",
    "                obs=resp\n",
    "            )"
   ]
  },
  {
   "cell_type": "code",
   "execution_count": 3,
   "id": "0d753017-fd93-44a9-b4f1-1be5f02dab84",
   "metadata": {},
   "outputs": [],
   "source": [
    "models = ['gpt-5-mini', 'gemini-2.5-flash', 'claude-sonnet-4']\n",
    "df = pd.read_excel(\"data/JSNDI_20250906.xlsx\")\n",
    "\n",
    "for model in models:\n",
    "    df.loc[df[df[model] == 1].index, 'Model'] = model"
   ]
  },
  {
   "cell_type": "code",
   "execution_count": 4,
   "id": "c0dcfcdc-1ef3-4fe2-85c4-206a8ba69466",
   "metadata": {},
   "outputs": [],
   "source": [
    "subject = 'Code_Comp'\n",
    "columns = ['Model', 'file', 'Correct']\n",
    "response = df.query(\"Cat==@subject\")[columns].pivot(index='file', columns='Model')['Correct'].T"
   ]
  },
  {
   "cell_type": "code",
   "execution_count": 5,
   "id": "1a6bf0a5-8942-47c3-bede-e9878d68dd6c",
   "metadata": {},
   "outputs": [],
   "source": [
    "rng_key = random.PRNGKey(0),\n",
    "num_warmup = 2_000\n",
    "num_samples = 2_000\n",
    "num_chains = 1\n",
    "\n",
    "nuts_kernel = NUTS(irt_2pl)\n",
    "mcmc = MCMC(\n",
    "    nuts_kernel,\n",
    "    num_warmup  = num_warmup,\n",
    "    num_samples = num_samples,\n",
    "    progress_bar = True,\n",
    ")"
   ]
  },
  {
   "cell_type": "code",
   "execution_count": 6,
   "id": "8dfb7547-217e-434a-a545-ddeda22f3551",
   "metadata": {},
   "outputs": [],
   "source": [
    "base_key   = random.PRNGKey(0)\n",
    "chain_keys = random.split(base_key, num_chains)\n",
    "\n",
    "N, K = response.shape"
   ]
  },
  {
   "cell_type": "code",
   "execution_count": 7,
   "id": "a93611b2-bbd6-4491-99fd-e157a9b63324",
   "metadata": {},
   "outputs": [
    {
     "name": "stderr",
     "output_type": "stream",
     "text": [
      "sample: 100%|██████████████████████████████████████████████████████████████████████████████████████████████████████████████████████████████████████████████████████████████████████████████████████████████████| 4000/4000 [00:01<00:00, 3117.85it/s, 31 steps of size 1.09e-01. acc. prob=0.94]\n"
     ]
    }
   ],
   "source": [
    "mcmc.run(chain_keys[0], resp=response.values, N=N, K=K, beta=1)"
   ]
  },
  {
   "cell_type": "code",
   "execution_count": 8,
   "id": "d6fdaa6e-3325-4e91-b9b9-c0b461c596d3",
   "metadata": {},
   "outputs": [],
   "source": [
    "a = mcmc.get_samples()['a']\n",
    "b = mcmc.get_samples()['b']\n",
    "theta = mcmc.get_samples()['theta']"
   ]
  },
  {
   "cell_type": "code",
   "execution_count": 9,
   "id": "0bcfdd79-df3d-4c91-915e-73d6ece93df8",
   "metadata": {},
   "outputs": [],
   "source": [
    "from pathlib import Path\n",
    "result_path = Path(\"results\")\n",
    "result_path = result_path / subject\n",
    "result_path.mkdir(parents=True, exist_ok=True)\n",
    "\n",
    "file_name = 'a.csv'\n",
    "pd.DataFrame(a).to_csv(result_path / file_name, index=False)\n",
    "\n",
    "file_name = 'b.csv'\n",
    "pd.DataFrame(b).to_csv(result_path / file_name, index=False)\n",
    "\n",
    "file_name = 'theta.csv'\n",
    "pd.DataFrame(theta).to_csv(result_path / file_name, index=False)"
   ]
  },
  {
   "cell_type": "code",
   "execution_count": null,
   "id": "818e73bb-b224-427c-9693-0e85100c32b9",
   "metadata": {},
   "outputs": [],
   "source": []
  }
 ],
 "metadata": {
  "kernelspec": {
   "display_name": "Python 3 (ipykernel)",
   "language": "python",
   "name": "python3"
  },
  "language_info": {
   "codemirror_mode": {
    "name": "ipython",
    "version": 3
   },
   "file_extension": ".py",
   "mimetype": "text/x-python",
   "name": "python",
   "nbconvert_exporter": "python",
   "pygments_lexer": "ipython3",
   "version": "3.11.0"
  }
 },
 "nbformat": 4,
 "nbformat_minor": 5
}
